{
 "cells": [
  {
   "cell_type": "code",
   "execution_count": 1,
   "metadata": {
    "collapsed": true
   },
   "outputs": [],
   "source": [
    "import numpy as np\n",
    "import matplotlib.pyplot as plt\n",
    "import matplotlib.pylab as pylab\n",
    "import matplotlib.cm as cm\n",
    "%matplotlib inline\n",
    "import scipy.misc\n",
    "from PIL import Image\n",
    "import scipy.io\n",
    "import os\n",
    "import cv2\n",
    "import time\n",
    "\n",
    "# Make sure that caffe is on the python path:\n",
    "caffe_root = '../../'  # this file is expected to be in {caffe_root}/examples/hed/\n",
    "import sys\n",
    "sys.path.insert(0, caffe_root + 'python')\n",
    "\n",
    "import caffe"
   ]
  },
  {
   "cell_type": "code",
   "execution_count": 2,
   "metadata": {
    "collapsed": true
   },
   "outputs": [],
   "source": [
    "data_root = '../../data/NYUD/'\n",
    "with open(data_root+'hha-test.lst') as f:\n",
    "    hha_test_lst = f.readlines()\n",
    "with open(data_root+'image-test.lst') as f:\n",
    "    image_test_lst = f.readlines()\n",
    "    \n",
    "hha_test_lst = [x.strip() for x in hha_test_lst]\n",
    "image_test_lst = [x.strip() for x in image_test_lst]"
   ]
  },
  {
   "cell_type": "code",
   "execution_count": 3,
   "metadata": {
    "collapsed": true
   },
   "outputs": [],
   "source": [
    "hha_im_lst = []\n",
    "for i in range(0, len(hha_test_lst)):\n",
    "    im = Image.open(data_root+hha_test_lst[i])\n",
    "    in_ = np.array(im, dtype=np.float32)\n",
    "    in_ = in_[:,:,::-1]\n",
    "    in_ -= np.array((109.92,88.24,127.42))\n",
    "    hha_im_lst.append(in_)\n",
    "    \n",
    "image_im_lst = []\n",
    "for i in range(0, len(image_test_lst)):\n",
    "    im = Image.open(data_root+image_test_lst[i])\n",
    "    in_ = np.array(im, dtype=np.float32)\n",
    "    in_ = in_[:,:,::-1]\n",
    "    in_ -= np.array((104.00698793,116.66876762,122.67891434))\n",
    "    image_im_lst.append(in_)"
   ]
  },
  {
   "cell_type": "code",
   "execution_count": 4,
   "metadata": {
    "collapsed": true
   },
   "outputs": [],
   "source": [
    "#Visualization\n",
    "def plot_single_scale(scale_lst, size):\n",
    "    pylab.rcParams['figure.figsize'] = size, size/2\n",
    "    \n",
    "    plt.figure()\n",
    "    for i in range(0, len(scale_lst)):\n",
    "        s=plt.subplot(1,5,i+1)\n",
    "        plt.imshow(1-scale_lst[i], cmap = cm.Greys_r)\n",
    "        s.set_xticklabels([])\n",
    "        s.set_yticklabels([])\n",
    "        s.yaxis.set_ticks_position('none')\n",
    "        s.xaxis.set_ticks_position('none')\n",
    "    plt.tight_layout()"
   ]
  },
  {
   "cell_type": "code",
   "execution_count": 5,
   "metadata": {
    "collapsed": true
   },
   "outputs": [],
   "source": [
    "#remove the following two lines if testing with cpu\n",
    "caffe.set_mode_gpu()\n",
    "caffe.set_device(0)\n",
    "# load net\n",
    "net1 = caffe.Net('test.prototxt', 'rcf_pretrained_nyud_depth.caffemodel', caffe.TEST)\n",
    "net2 = caffe.Net('test.prototxt', 'rcf_pretrained_nyud_image.caffemodel', caffe.TEST)\n",
    "\n",
    "save_root = os.path.join(data_root, 'test-fcn')\n",
    "if not os.path.exists(save_root):\n",
    "    os.mkdir(save_root)"
   ]
  },
  {
   "cell_type": "code",
   "execution_count": 6,
   "metadata": {
    "collapsed": false
   },
   "outputs": [
    {
     "name": "stdout",
     "output_type": "stream",
     "text": [
      "Detection took 0.101s per image\n"
     ]
    }
   ],
   "source": [
    "start_time = time.time()\n",
    "for idx in range(0, len(hha_test_lst)):\n",
    "    hha_in_ = hha_im_lst[idx]\n",
    "    hha_in_ = hha_in_.transpose((2, 0, 1))\n",
    "    \n",
    "    image_in_ = image_im_lst[idx]\n",
    "    image_in_ = image_in_.transpose((2, 0, 1))\n",
    "    \n",
    "    assert hha_in_.shape == image_in_.shape, \\\n",
    "            'The HHA feature image must have the equal sizes with the RGB image...'\n",
    "    \n",
    "    # shape for input (data blob is N x C x H x W), set data\n",
    "    net1.blobs['data'].reshape(1, *hha_in_.shape)\n",
    "    net1.blobs['data'].data[...] = hha_in_\n",
    "    # run net and take argmax for prediction\n",
    "    net1.forward()\n",
    "    \n",
    "    # shape for input (data blob is N x C x H x W), set data\n",
    "    net2.blobs['data'].reshape(1, *image_in_.shape)\n",
    "    net2.blobs['data'].data[...] = image_in_\n",
    "    # run net and take argmax for prediction\n",
    "    net2.forward()\n",
    "    \n",
    "    # get output results of HHA net\n",
    "    #out11 = net1.blobs['sigmoid-dsn1'].data[0][0, :, :]\n",
    "    #out12 = net1.blobs['sigmoid-dsn2'].data[0][0, :, :]\n",
    "    #out13 = net1.blobs['sigmoid-dsn3'].data[0][0, :, :]\n",
    "    #out14 = net1.blobs['sigmoid-dsn4'].data[0][0, :, :]\n",
    "    #out15 = net1.blobs['sigmoid-dsn5'].data[0][0, :, :]\n",
    "    fuse1 = net1.blobs['sigmoid-fuse'].data[0][0, :, :]\n",
    "    \n",
    "    # get output results of RGB net\n",
    "    #out21 = net2.blobs['sigmoid-dsn1'].data[0][0, :, :]\n",
    "    #out22 = net2.blobs['sigmoid-dsn2'].data[0][0, :, :]\n",
    "    #out23 = net2.blobs['sigmoid-dsn3'].data[0][0, :, :]\n",
    "    #out24 = net2.blobs['sigmoid-dsn4'].data[0][0, :, :]\n",
    "    #out25 = net2.blobs['sigmoid-dsn5'].data[0][0, :, :]\n",
    "    fuse2 = net2.blobs['sigmoid-fuse'].data[0][0, :, :]\n",
    "    \n",
    "    #fuse = (out12+out13+out14+out22+out23+out24)/6\n",
    "    fuse = (fuse1+fuse2)/2\n",
    "\n",
    "    fuse = 255 * (1-fuse)    \n",
    "    cv2.imwrite(save_root + '/' + hha_test_lst[idx][8:-4] + '_fuse.png', fuse)\n",
    "    \n",
    "diff_time = time.time() - start_time\n",
    "print 'Detection took {:.3f}s per image'.format(diff_time/len(hha_test_lst))"
   ]
  },
  {
   "cell_type": "code",
   "execution_count": null,
   "metadata": {
    "collapsed": true
   },
   "outputs": [],
   "source": []
  }
 ],
 "metadata": {
  "kernelspec": {
   "display_name": "Python 2",
   "language": "python",
   "name": "python2"
  },
  "language_info": {
   "codemirror_mode": {
    "name": "ipython",
    "version": 2
   },
   "file_extension": ".py",
   "mimetype": "text/x-python",
   "name": "python",
   "nbconvert_exporter": "python",
   "pygments_lexer": "ipython2",
   "version": "2.7.12"
  }
 },
 "nbformat": 4,
 "nbformat_minor": 0
}
